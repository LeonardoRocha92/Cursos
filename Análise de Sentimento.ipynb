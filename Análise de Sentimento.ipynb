{
 "cells": [
  {
   "cell_type": "code",
   "execution_count": 7,
   "metadata": {},
   "outputs": [
    {
     "name": "stdout",
     "output_type": "stream",
     "text": [
      "@Kris_Stien You know, this will haunt me forever. DUDUDU...has become one  of my favourite Harry Styles songs ;-)\n",
      "0.25\n",
      "RT @eliesaaab: Snitch engagement ring box inspired by Harry Potter https://t.co/qymbpkAw3d\n",
      "0.0\n",
      "RT @Ana_gluna26: Netflix quita películas chingonas como Harry Potter y Shrek y pone la película de Taylor Swift. REATZIONAAAAA NETFLIX.\n",
      "0.0\n",
      "1) Harry Potter and the prisoner of ask a band. \n",
      "2) I just realized that the greatest pain I’ve ever felt I’ve expe… https://t.co/OwXE165qMi\n",
      "1.0\n",
      "RT @PotterWorldUK: Brilliant correlation between the Deathly Hallows and the characters Voldemort, Snape and Harry. https://t.co/dcpgfjdZ2i\n",
      "0.9\n",
      "PQP HARRY O MAIS NOVO MEMBRO DO BTS https://t.co/4rmVLnzSYl\n",
      "0.0\n",
      "RT @eliesaaab: Snitch engagement ring box inspired by Harry Potter https://t.co/qymbpkAw3d\n",
      "0.0\n",
      "call me when harry and louis drop their albums or singles. https://t.co/BFsiWGpa4n\n",
      "0.0\n",
      "RT @C0REZI: harry potter, age 11: why do you hate weasleys so much? they seem nice\n",
      "\n",
      "draco malfoy: they are blood traitors. i bet they use t…\n",
      "-3.700743415417188e-17\n",
      "@pandiisss Of o gece kuzenlerimde kalıyordum harry potter izliyordum bir yandanda stream kasıyordum sabah artık 10… https://t.co/Ba00QNEBZe\n",
      "0.0\n",
      "RT @lotofloveLouis: Louis sacando a bailar a Harry y luego los otros chicos uniéndose a ellos, vivo por este momento tan memorable y hermos…\n",
      "0.5\n",
      "RT @WrockSnob: HARRY POTTER MAGIC SPELLS ARE PRIMARILY BASED ON LATIN\n",
      "LATIN SPOKE BY ROMANS\n",
      "ROMANS HAD PLUMBING\n",
      "BATHROOMS EXIST WHEN PLUMBI…\n",
      "0.45\n",
      "I got Niffler! https://t.co/jlg4QnaKNy\n",
      "0.0\n"
     ]
    }
   ],
   "source": [
    "from textblob import TextBlob as tb\n",
    "import tweepy\n",
    "import numpy as np\n",
    "\n",
    "consumer_key = '9NZTCqcR1k1t4BfRGBeORMRUF'\n",
    "consumer_secret = 'xZ9SyC4YZ5sM86rZPCWfcUS9bmwqkklQUo2H7uLkLgYg1GqnmS'\n",
    "access_token = '151119652-BVBbNLpAMS5nXsjUFBJiHgPHhikKpSsYfCVeHWvm'\n",
    "access_token_secret = '4euD3IlzpLV1RZAoLmffrTQr4zycBIYOZJBsxSXvKVi0t'\n",
    "\n",
    "auth = tweepy.OAuthHandler(consumer_key, consumer_secret)\n",
    "auth.set_access_token(access_token, access_token_secret)\n",
    "api = tweepy.API(auth)\n",
    "\n",
    "#Variável que irá armazenar todos os Tweets com a palavra escolhida na função search da API\n",
    "public_tweets = api.search('Harry')\n",
    "\n",
    "#Variável que irá armazenar as polaridades\n",
    "analysis = None \n",
    "\n",
    "tweets = [] # Lista vazia para armazenar scores\n",
    "for tweet in public_tweets:\n",
    "    print(tweet.text)\n",
    "    analysis = tb(tweet.text)\n",
    "    polarity = analysis.sentiment.polarity\n",
    "    tweets.append(polarity)\n",
    "    print(polarity)\n",
    "       \n",
    "      \n"
   ]
  },
  {
   "cell_type": "code",
   "execution_count": 9,
   "metadata": {},
   "outputs": [
    {
     "ename": "SyntaxError",
     "evalue": "unexpected EOF while parsing (<ipython-input-9-418090ebc896>, line 1)",
     "output_type": "error",
     "traceback": [
      "\u001b[1;36m  File \u001b[1;32m\"<ipython-input-9-418090ebc896>\"\u001b[1;36m, line \u001b[1;32m1\u001b[0m\n\u001b[1;33m    print('MÉDIA DE SENTIMENTO: '+ str(np.mean(tweets))\u001b[0m\n\u001b[1;37m                                                       ^\u001b[0m\n\u001b[1;31mSyntaxError\u001b[0m\u001b[1;31m:\u001b[0m unexpected EOF while parsing\n"
     ]
    }
   ],
   "source": [
    "print('MÉDIA DE SENTIMENTO: '+ str(np.mean(tweets))"
   ]
  },
  {
   "cell_type": "code",
   "execution_count": null,
   "metadata": {},
   "outputs": [],
   "source": []
  }
 ],
 "metadata": {
  "kernelspec": {
   "display_name": "Python 3",
   "language": "python",
   "name": "python3"
  },
  "language_info": {
   "codemirror_mode": {
    "name": "ipython",
    "version": 3
   },
   "file_extension": ".py",
   "mimetype": "text/x-python",
   "name": "python",
   "nbconvert_exporter": "python",
   "pygments_lexer": "ipython3",
   "version": "3.7.1"
  }
 },
 "nbformat": 4,
 "nbformat_minor": 2
}
